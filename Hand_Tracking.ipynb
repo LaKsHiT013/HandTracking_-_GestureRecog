{
 "cells": [
  {
   "cell_type": "code",
   "execution_count": 1,
   "id": "da7af3bf-2df6-4b16-8c47-0dd98acb6de2",
   "metadata": {},
   "outputs": [],
   "source": [
    "import cv2\n",
    "import mediapipe as mp\n",
    "import time"
   ]
  },
  {
   "cell_type": "code",
   "execution_count": 2,
   "id": "49d54bea-d597-4a40-a2a6-814762b35492",
   "metadata": {},
   "outputs": [],
   "source": [
    "cam=cv2.VideoCapture(0)"
   ]
  },
  {
   "cell_type": "code",
   "execution_count": 3,
   "id": "1468f108-48d7-4fc2-85cd-946ece2cf9fd",
   "metadata": {},
   "outputs": [],
   "source": [
    "mphand=mp.solutions.hands\n",
    "hands=mphand.Hands()\n",
    "draw=mp.solutions.drawing_utils\n",
    "\n",
    "start=0\n",
    "curr=0"
   ]
  },
  {
   "cell_type": "code",
   "execution_count": 4,
   "id": "7f5adc47-3f9d-4914-a5b4-875aa9d5fc0d",
   "metadata": {},
   "outputs": [
    {
     "name": "stderr",
     "output_type": "stream",
     "text": [
      "C:\\Users\\laksh\\AppData\\Local\\Programs\\Python\\Python311\\Lib\\site-packages\\google\\protobuf\\symbol_database.py:55: UserWarning: SymbolDatabase.GetPrototype() is deprecated. Please use message_factory.GetMessageClass() instead. SymbolDatabase.GetPrototype() will be removed soon.\n",
      "  warnings.warn('SymbolDatabase.GetPrototype() is deprecated. Please '\n"
     ]
    }
   ],
   "source": [
    "while True:\n",
    "    success,img=cam.read()\n",
    "    img1=cv2.cvtColor(img,cv2.COLOR_BGR2RGB)  ##hands only use RGB Images\n",
    "    res=hands.process(img1)\n",
    "    #print(res.multi_hand_landmarks) (it tell us weather hand were detected of not and their coordinates)\n",
    "    if res.multi_hand_landmarks:\n",
    "        for i in res.multi_hand_landmarks:  #extracting info of each hand if more than one hand is on the screen\n",
    "            for id, lm in enumerate(i.landmark): #position of the landmarks\n",
    "                h,w,c=img.shape\n",
    "                cx,cy=int(lm.x * w),int(lm.y * h)\n",
    "                cv2.circle(img, (cx, cy), 15, (255, 0, 255), cv2.FILLED)\n",
    "            draw.draw_landmarks(img,i,mphand.HAND_CONNECTIONS)  #for hand lines\n",
    "    curr=time.time()\n",
    "    fps=1/(curr-start)\n",
    "    start=curr\n",
    "    cv2.putText(img,str(int(fps)),(10,70), cv2.FONT_HERSHEY_PLAIN,3,(255,0,255),3)\n",
    "            \n",
    "    if not success: break\n",
    "    cv2.imshow(\"Image\", img)\n",
    "    if cv2.waitKey(1) & 0xFF == ord('q'): break"
   ]
  },
  {
   "cell_type": "code",
   "execution_count": null,
   "id": "e90b65b6-c448-4a45-8181-78e30c042253",
   "metadata": {},
   "outputs": [],
   "source": []
  }
 ],
 "metadata": {
  "kernelspec": {
   "display_name": "Python 3 (ipykernel)",
   "language": "python",
   "name": "python3"
  },
  "language_info": {
   "codemirror_mode": {
    "name": "ipython",
    "version": 3
   },
   "file_extension": ".py",
   "mimetype": "text/x-python",
   "name": "python",
   "nbconvert_exporter": "python",
   "pygments_lexer": "ipython3",
   "version": "3.11.0"
  }
 },
 "nbformat": 4,
 "nbformat_minor": 5
}
